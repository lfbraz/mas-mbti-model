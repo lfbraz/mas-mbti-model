{
 "cells": [
  {
   "cell_type": "markdown",
   "metadata": {},
   "source": [
    "# Analysis of the simulations to SSC 2021"
   ]
  },
  {
   "cell_type": "markdown",
   "metadata": {},
   "source": [
    "## Install libs"
   ]
  },
  {
   "cell_type": "code",
   "execution_count": 36,
   "metadata": {},
   "outputs": [
    {
     "name": "stdout",
     "output_type": "stream",
     "text": [
      "Requirement already satisfied: psycopg2-binary in c:\\users\\lubraz\\appdata\\local\\programs\\python\\python38\\lib\\site-packages (2.8.6)\n"
     ]
    },
    {
     "name": "stderr",
     "output_type": "stream",
     "text": [
      "WARNING: You are using pip version 20.1.1; however, version 21.1.1 is available.\n",
      "You should consider upgrading via the 'c:\\users\\lubraz\\appdata\\local\\programs\\python\\python38\\python.exe -m pip install --upgrade pip' command.\n"
     ]
    },
    {
     "name": "stdout",
     "output_type": "stream",
     "text": [
      "Requirement already satisfied: pandas in c:\\users\\lubraz\\appdata\\local\\programs\\python\\python38\\lib\\site-packages (1.2.4)\n",
      "Requirement already satisfied: pytz>=2017.3 in c:\\users\\lubraz\\appdata\\local\\programs\\python\\python38\\lib\\site-packages (from pandas) (2021.1)\n",
      "Requirement already satisfied: numpy>=1.16.5 in c:\\users\\lubraz\\appdata\\local\\programs\\python\\python38\\lib\\site-packages (from pandas) (1.20.2)\n",
      "Requirement already satisfied: python-dateutil>=2.7.3 in c:\\users\\lubraz\\appdata\\roaming\\python\\python38\\site-packages (from pandas) (2.8.1)\n",
      "Requirement already satisfied: six>=1.5 in c:\\users\\lubraz\\appdata\\local\\programs\\python\\python38\\lib\\site-packages (from python-dateutil>=2.7.3->pandas) (1.15.0)\n"
     ]
    },
    {
     "name": "stderr",
     "output_type": "stream",
     "text": [
      "WARNING: You are using pip version 20.1.1; however, version 21.1.1 is available.\n",
      "You should consider upgrading via the 'c:\\users\\lubraz\\appdata\\local\\programs\\python\\python38\\python.exe -m pip install --upgrade pip' command.\n"
     ]
    },
    {
     "name": "stdout",
     "output_type": "stream",
     "text": [
      "Requirement already satisfied: matplotlib in c:\\users\\lubraz\\appdata\\local\\programs\\python\\python38\\lib\\site-packages (3.4.1)\n",
      "Requirement already satisfied: pyparsing>=2.2.1 in c:\\users\\lubraz\\appdata\\local\\programs\\python\\python38\\lib\\site-packages (from matplotlib) (2.4.7)\n",
      "Requirement already satisfied: cycler>=0.10 in c:\\users\\lubraz\\appdata\\local\\programs\\python\\python38\\lib\\site-packages (from matplotlib) (0.10.0)\n",
      "Requirement already satisfied: pillow>=6.2.0 in c:\\users\\lubraz\\appdata\\local\\programs\\python\\python38\\lib\\site-packages (from matplotlib) (8.2.0)\n",
      "Requirement already satisfied: numpy>=1.16 in c:\\users\\lubraz\\appdata\\local\\programs\\python\\python38\\lib\\site-packages (from matplotlib) (1.20.2)\n",
      "Requirement already satisfied: python-dateutil>=2.7 in c:\\users\\lubraz\\appdata\\roaming\\python\\python38\\site-packages (from matplotlib) (2.8.1)\n",
      "Requirement already satisfied: kiwisolver>=1.0.1 in c:\\users\\lubraz\\appdata\\local\\programs\\python\\python38\\lib\\site-packages (from matplotlib) (1.3.1)\n",
      "Requirement already satisfied: six in c:\\users\\lubraz\\appdata\\local\\programs\\python\\python38\\lib\\site-packages (from cycler>=0.10->matplotlib) (1.15.0)\n"
     ]
    },
    {
     "name": "stderr",
     "output_type": "stream",
     "text": [
      "WARNING: You are using pip version 20.1.1; however, version 21.1.1 is available.\n",
      "You should consider upgrading via the 'c:\\users\\lubraz\\appdata\\local\\programs\\python\\python38\\python.exe -m pip install --upgrade pip' command.\n"
     ]
    },
    {
     "name": "stdout",
     "output_type": "stream",
     "text": [
      "Requirement already satisfied: seaborn in c:\\users\\lubraz\\appdata\\local\\programs\\python\\python38\\lib\\site-packages (0.11.1)"
     ]
    },
    {
     "name": "stderr",
     "output_type": "stream",
     "text": [
      "WARNING: You are using pip version 20.1.1; however, version 21.1.1 is available.\n",
      "You should consider upgrading via the 'c:\\users\\lubraz\\appdata\\local\\programs\\python\\python38\\python.exe -m pip install --upgrade pip' command.\n"
     ]
    },
    {
     "name": "stdout",
     "output_type": "stream",
     "text": [
      "\n",
      "Requirement already satisfied: scipy>=1.0 in c:\\users\\lubraz\\appdata\\local\\programs\\python\\python38\\lib\\site-packages (from seaborn) (1.6.3)\n",
      "Requirement already satisfied: pandas>=0.23 in c:\\users\\lubraz\\appdata\\local\\programs\\python\\python38\\lib\\site-packages (from seaborn) (1.2.4)\n",
      "Requirement already satisfied: numpy>=1.15 in c:\\users\\lubraz\\appdata\\local\\programs\\python\\python38\\lib\\site-packages (from seaborn) (1.20.2)\n",
      "Requirement already satisfied: matplotlib>=2.2 in c:\\users\\lubraz\\appdata\\local\\programs\\python\\python38\\lib\\site-packages (from seaborn) (3.4.1)\n",
      "Requirement already satisfied: python-dateutil>=2.7.3 in c:\\users\\lubraz\\appdata\\roaming\\python\\python38\\site-packages (from pandas>=0.23->seaborn) (2.8.1)\n",
      "Requirement already satisfied: pytz>=2017.3 in c:\\users\\lubraz\\appdata\\local\\programs\\python\\python38\\lib\\site-packages (from pandas>=0.23->seaborn) (2021.1)\n",
      "Requirement already satisfied: kiwisolver>=1.0.1 in c:\\users\\lubraz\\appdata\\local\\programs\\python\\python38\\lib\\site-packages (from matplotlib>=2.2->seaborn) (1.3.1)\n",
      "Requirement already satisfied: cycler>=0.10 in c:\\users\\lubraz\\appdata\\local\\programs\\python\\python38\\lib\\site-packages (from matplotlib>=2.2->seaborn) (0.10.0)\n",
      "Requirement already satisfied: pillow>=6.2.0 in c:\\users\\lubraz\\appdata\\local\\programs\\python\\python38\\lib\\site-packages (from matplotlib>=2.2->seaborn) (8.2.0)\n",
      "Requirement already satisfied: pyparsing>=2.2.1 in c:\\users\\lubraz\\appdata\\local\\programs\\python\\python38\\lib\\site-packages (from matplotlib>=2.2->seaborn) (2.4.7)\n",
      "Requirement already satisfied: six>=1.5 in c:\\users\\lubraz\\appdata\\local\\programs\\python\\python38\\lib\\site-packages (from python-dateutil>=2.7.3->pandas>=0.23->seaborn) (1.15.0)\n"
     ]
    }
   ],
   "source": [
    "!pip install psycopg2-binary\r\n",
    "!pip install pandas\r\n",
    "!pip install matplotlib\r\n",
    "!pip install seaborn"
   ]
  },
  {
   "cell_type": "markdown",
   "metadata": {},
   "source": [
    "## Connect to DB"
   ]
  },
  {
   "cell_type": "code",
   "execution_count": 2,
   "metadata": {},
   "outputs": [
    {
     "name": "stdout",
     "output_type": "stream",
     "text": [
      "PostgreSQL database version:\n",
      "('PostgreSQL 13.2 (Debian 13.2-1.pgdg100+1) on x86_64-pc-linux-gnu, compiled by gcc (Debian 8.3.0-6) 8.3.0, 64-bit',)\n"
     ]
    }
   ],
   "source": [
    "import psycopg2\r\n",
    "\r\n",
    "conn = psycopg2.connect(\"dbname=gama_data user=postgres_user password=gama#123\")\r\n",
    "\r\n",
    "# create a cursor\r\n",
    "cur = conn.cursor()\r\n",
    "\r\n",
    "# execute a statement\r\n",
    "print('PostgreSQL database version:')\r\n",
    "cur.execute('SELECT version()')\r\n",
    "\r\n",
    "# display the PostgreSQL database server version\r\n",
    "db_version = cur.fetchone()\r\n",
    "print(db_version)"
   ]
  },
  {
   "cell_type": "code",
   "execution_count": 86,
   "metadata": {},
   "outputs": [],
   "source": [
    "\r\n",
    "import pandas as pd\r\n",
    "\r\n",
    "sql = \"SELECT * FROM TB_SELLER_PRODUCTIVITY_CONSOLIDATE\"\r\n",
    "seller_productivity = pd.read_sql_query(sql, conn)"
   ]
  },
  {
   "cell_type": "code",
   "execution_count": 4,
   "metadata": {},
   "outputs": [
    {
     "data": {
      "text/html": "<div>\n<style scoped>\n    .dataframe tbody tr th:only-of-type {\n        vertical-align: middle;\n    }\n\n    .dataframe tbody tr th {\n        vertical-align: top;\n    }\n\n    .dataframe thead th {\n        text-align: right;\n    }\n</style>\n<table border=\"1\" class=\"dataframe\">\n  <thead>\n    <tr style=\"text-align: right;\">\n      <th></th>\n      <th>id</th>\n      <th>interaction</th>\n      <th>seller_name</th>\n      <th>seller_original_mbti</th>\n      <th>seller_real_mbti</th>\n      <th>buyer_target</th>\n      <th>location_target</th>\n      <th>is_extroverted</th>\n      <th>is_sensing</th>\n      <th>is_thinking</th>\n      <th>is_judging</th>\n      <th>number_of_visited_buyers</th>\n      <th>experiment_name</th>\n      <th>seed</th>\n      <th>batch_type</th>\n    </tr>\n  </thead>\n  <tbody>\n    <tr>\n      <th>0</th>\n      <td>1</td>\n      <td>5</td>\n      <td>sellers0</td>\n      <td>['E','S','F','J']</td>\n      <td>['E','S','F','J']</td>\n      <td>buyers93</td>\n      <td>location[205.7045097665238;492.3424460477548;0.0]</td>\n      <td>1</td>\n      <td>1</td>\n      <td>0</td>\n      <td>1</td>\n      <td>1</td>\n      <td>Simulation 0</td>\n      <td>0.929449</td>\n      <td>batch-10</td>\n    </tr>\n    <tr>\n      <th>1</th>\n      <td>2</td>\n      <td>7</td>\n      <td>sellers2</td>\n      <td>['E','S','T','J']</td>\n      <td>['E','S','T','J']</td>\n      <td>buyers17</td>\n      <td>location[300.95666614613907;241.81626886113705...</td>\n      <td>1</td>\n      <td>1</td>\n      <td>1</td>\n      <td>1</td>\n      <td>1</td>\n      <td>Simulation 2</td>\n      <td>0.453030</td>\n      <td>batch-10</td>\n    </tr>\n  </tbody>\n</table>\n</div>",
      "text/plain": "   id  interaction seller_name seller_original_mbti   seller_real_mbti  \\\n0   1            5    sellers0    ['E','S','F','J']  ['E','S','F','J']   \n1   2            7    sellers2    ['E','S','T','J']  ['E','S','T','J']   \n\n  buyer_target                                    location_target  \\\n0     buyers93  location[205.7045097665238;492.3424460477548;0.0]   \n1     buyers17  location[300.95666614613907;241.81626886113705...   \n\n   is_extroverted  is_sensing  is_thinking  is_judging  \\\n0               1           1            0           1   \n1               1           1            1           1   \n\n   number_of_visited_buyers experiment_name      seed batch_type  \n0                         1    Simulation 0  0.929449   batch-10  \n1                         1    Simulation 2  0.453030   batch-10  "
     },
     "execution_count": 4,
     "metadata": {},
     "output_type": "execute_result"
    }
   ],
   "source": [
    "seller_productivity.head(2)"
   ]
  },
  {
   "cell_type": "code",
   "execution_count": 87,
   "metadata": {},
   "outputs": [],
   "source": [
    "seller_productivity['seller_mbti'] = seller_productivity['seller_original_mbti'].str.replace('[^A-Z]', '', regex = True)"
   ]
  },
  {
   "cell_type": "code",
   "execution_count": 88,
   "metadata": {},
   "outputs": [],
   "source": [
    "seller_productivity_aggregated = seller_productivity[['seller_mbti', \r\n",
    "                                                      'number_of_visited_buyers',\r\n",
    "                                                      'batch_type', \r\n",
    "                                                      'experiment_name']].groupby(['seller_mbti', \r\n",
    "                                                                                   'batch_type',\r\n",
    "                                                                                   'experiment_name']).agg({'number_of_visited_buyers':'max'}).reset_index()"
   ]
  },
  {
   "cell_type": "code",
   "execution_count": 91,
   "metadata": {},
   "outputs": [
    {
     "name": "stderr",
     "output_type": "stream",
     "text": [
      "<ipython-input-91-0c57a76e8775>:2: SettingWithCopyWarning: \n",
      "A value is trying to be set on a copy of a slice from a DataFrame\n",
      "\n",
      "See the caveats in the documentation: https://pandas.pydata.org/pandas-docs/stable/user_guide/indexing.html#returning-a-view-versus-a-copy\n",
      "  seller_productivity_aggregated['simulations'][seller_productivity_aggregated.simulations=='batch-10'] = '10'\n",
      "<ipython-input-91-0c57a76e8775>:3: SettingWithCopyWarning: \n",
      "A value is trying to be set on a copy of a slice from a DataFrame\n",
      "\n",
      "See the caveats in the documentation: https://pandas.pydata.org/pandas-docs/stable/user_guide/indexing.html#returning-a-view-versus-a-copy\n",
      "  seller_productivity_aggregated['simulations'][seller_productivity_aggregated.simulations=='batch-100'] = '100'\n",
      "<ipython-input-91-0c57a76e8775>:4: SettingWithCopyWarning: \n",
      "A value is trying to be set on a copy of a slice from a DataFrame\n",
      "\n",
      "See the caveats in the documentation: https://pandas.pydata.org/pandas-docs/stable/user_guide/indexing.html#returning-a-view-versus-a-copy\n",
      "  seller_productivity_aggregated['simulations'][seller_productivity_aggregated.simulations=='batch-1000'] = '1000'\n"
     ]
    }
   ],
   "source": [
    "seller_productivity_aggregated = seller_productivity_aggregated.rename(columns={'batch_type':'simulations'})\r\n",
    "seller_productivity_aggregated['simulations'][seller_productivity_aggregated.simulations=='batch-10'] = '10'\r\n",
    "seller_productivity_aggregated['simulations'][seller_productivity_aggregated.simulations=='batch-100'] = '100'\r\n",
    "seller_productivity_aggregated['simulations'][seller_productivity_aggregated.simulations=='batch-1000'] = '1000'"
   ]
  },
  {
   "cell_type": "code",
   "execution_count": 92,
   "metadata": {},
   "outputs": [
    {
     "data": {
      "text/html": "<div>\n<style scoped>\n    .dataframe tbody tr th:only-of-type {\n        vertical-align: middle;\n    }\n\n    .dataframe tbody tr th {\n        vertical-align: top;\n    }\n\n    .dataframe thead th {\n        text-align: right;\n    }\n</style>\n<table border=\"1\" class=\"dataframe\">\n  <thead>\n    <tr style=\"text-align: right;\">\n      <th></th>\n      <th>seller_mbti</th>\n      <th>simulations</th>\n      <th>experiment_name</th>\n      <th>number_of_visited_buyers</th>\n    </tr>\n  </thead>\n  <tbody>\n    <tr>\n      <th>0</th>\n      <td>ENFJ</td>\n      <td>10</td>\n      <td>Simulation 0</td>\n      <td>6</td>\n    </tr>\n    <tr>\n      <th>1</th>\n      <td>ENFJ</td>\n      <td>10</td>\n      <td>Simulation 1</td>\n      <td>2</td>\n    </tr>\n    <tr>\n      <th>2</th>\n      <td>ENFJ</td>\n      <td>10</td>\n      <td>Simulation 2</td>\n      <td>2</td>\n    </tr>\n    <tr>\n      <th>3</th>\n      <td>ENFJ</td>\n      <td>10</td>\n      <td>Simulation 3</td>\n      <td>1</td>\n    </tr>\n    <tr>\n      <th>4</th>\n      <td>ENFJ</td>\n      <td>10</td>\n      <td>Simulation 4</td>\n      <td>5</td>\n    </tr>\n    <tr>\n      <th>...</th>\n      <td>...</td>\n      <td>...</td>\n      <td>...</td>\n      <td>...</td>\n    </tr>\n    <tr>\n      <th>17205</th>\n      <td>ISTP</td>\n      <td>1000</td>\n      <td>Simulation 995</td>\n      <td>12</td>\n    </tr>\n    <tr>\n      <th>17206</th>\n      <td>ISTP</td>\n      <td>1000</td>\n      <td>Simulation 996</td>\n      <td>5</td>\n    </tr>\n    <tr>\n      <th>17207</th>\n      <td>ISTP</td>\n      <td>1000</td>\n      <td>Simulation 997</td>\n      <td>8</td>\n    </tr>\n    <tr>\n      <th>17208</th>\n      <td>ISTP</td>\n      <td>1000</td>\n      <td>Simulation 998</td>\n      <td>8</td>\n    </tr>\n    <tr>\n      <th>17209</th>\n      <td>ISTP</td>\n      <td>1000</td>\n      <td>Simulation 999</td>\n      <td>13</td>\n    </tr>\n  </tbody>\n</table>\n<p>17210 rows × 4 columns</p>\n</div>",
      "text/plain": "      seller_mbti simulations experiment_name  number_of_visited_buyers\n0            ENFJ          10    Simulation 0                         6\n1            ENFJ          10    Simulation 1                         2\n2            ENFJ          10    Simulation 2                         2\n3            ENFJ          10    Simulation 3                         1\n4            ENFJ          10    Simulation 4                         5\n...           ...         ...             ...                       ...\n17205        ISTP        1000  Simulation 995                        12\n17206        ISTP        1000  Simulation 996                         5\n17207        ISTP        1000  Simulation 997                         8\n17208        ISTP        1000  Simulation 998                         8\n17209        ISTP        1000  Simulation 999                        13\n\n[17210 rows x 4 columns]"
     },
     "execution_count": 92,
     "metadata": {},
     "output_type": "execute_result"
    }
   ],
   "source": [
    "seller_productivity_aggregated"
   ]
  },
  {
   "cell_type": "code",
   "execution_count": 108,
   "metadata": {},
   "outputs": [
    {
     "data": {
      "text/plain": "<seaborn.axisgrid.FacetGrid at 0x233b8c226a0>"
     },
     "execution_count": 108,
     "metadata": {},
     "output_type": "execute_result"
    },
    {
     "data": {
      "text/plain": "<Figure size 144x144 with 0 Axes>"
     },
     "metadata": {},
     "output_type": "display_data"
    },
    {
     "data": {
      "image/png": "[encoded data removed]",
      "text/plain": "<Figure size 907.2x216 with 3 Axes>"
     },
     "metadata": {},
     "output_type": "display_data"
    }
   ],
   "source": [
    "import matplotlib.pyplot as plt\r\n",
    "import seaborn as sns\r\n",
    "import numpy as np\r\n",
    "\r\n",
    "plt.figure(figsize=(2,2))\r\n",
    "\r\n",
    "#sns.barplot(x='seller_mbti', \r\n",
    "#            y='number_of_visited_buyers',\r\n",
    "#            data=seller_productivity_aggregated[seller_productivity_aggregated.batch_type=='batch-1000'],\r\n",
    "#            estimator=np.median,\r\n",
    "#            color='gray'\r\n",
    "#           )\r\n",
    "\r\n",
    "chart = sns.catplot(x='seller_mbti', \r\n",
    "                    y='number_of_visited_buyers', \r\n",
    "                    col='simulations', \r\n",
    "                    data=seller_productivity_aggregated, \r\n",
    "                    kind='bar', \r\n",
    "                    color='gray',\r\n",
    "                    estimator=np.median,\r\n",
    "                    ci=95,\r\n",
    "                    height=3.00,\r\n",
    "                    aspect=1.40)\r\n",
    "\r\n",
    "chart.set_xticklabels(rotation=90)\r\n",
    "chart.set_xlabels('Personality Type')\r\n",
    "chart.set_ylabels('Visited buyers (median)')\r\n"
   ]
  },
  {
   "cell_type": "code",
   "execution_count": 128,
   "metadata": {},
   "outputs": [
    {
     "data": {
      "text/html": "<div>\n<style scoped>\n    .dataframe tbody tr th:only-of-type {\n        vertical-align: middle;\n    }\n\n    .dataframe tbody tr th {\n        vertical-align: top;\n    }\n\n    .dataframe thead th {\n        text-align: right;\n    }\n</style>\n<table border=\"1\" class=\"dataframe\">\n  <thead>\n    <tr style=\"text-align: right;\">\n      <th></th>\n      <th>seller_mbti</th>\n      <th>simulations</th>\n      <th>experiment_name</th>\n      <th>number_of_visited_buyers</th>\n      <th>rank</th>\n    </tr>\n  </thead>\n  <tbody>\n    <tr>\n      <th>0</th>\n      <td>ENFJ</td>\n      <td>10</td>\n      <td>Simulation 0</td>\n      <td>6</td>\n      <td>10.0</td>\n    </tr>\n    <tr>\n      <th>1076</th>\n      <td>ENFP</td>\n      <td>10</td>\n      <td>Simulation 0</td>\n      <td>6</td>\n      <td>10.0</td>\n    </tr>\n    <tr>\n      <th>2143</th>\n      <td>ENTJ</td>\n      <td>10</td>\n      <td>Simulation 0</td>\n      <td>5</td>\n      <td>12.0</td>\n    </tr>\n    <tr>\n      <th>3221</th>\n      <td>ENTP</td>\n      <td>10</td>\n      <td>Simulation 0</td>\n      <td>8</td>\n      <td>4.0</td>\n    </tr>\n    <tr>\n      <th>4302</th>\n      <td>ESFJ</td>\n      <td>10</td>\n      <td>Simulation 0</td>\n      <td>3</td>\n      <td>14.0</td>\n    </tr>\n    <tr>\n      <th>5375</th>\n      <td>ESFP</td>\n      <td>10</td>\n      <td>Simulation 0</td>\n      <td>7</td>\n      <td>7.0</td>\n    </tr>\n    <tr>\n      <th>6455</th>\n      <td>ESTJ</td>\n      <td>10</td>\n      <td>Simulation 0</td>\n      <td>13</td>\n      <td>1.0</td>\n    </tr>\n    <tr>\n      <th>7530</th>\n      <td>ESTP</td>\n      <td>10</td>\n      <td>Simulation 0</td>\n      <td>3</td>\n      <td>14.0</td>\n    </tr>\n    <tr>\n      <th>8605</th>\n      <td>INFJ</td>\n      <td>10</td>\n      <td>Simulation 0</td>\n      <td>2</td>\n      <td>15.0</td>\n    </tr>\n    <tr>\n      <th>9682</th>\n      <td>INFP</td>\n      <td>10</td>\n      <td>Simulation 0</td>\n      <td>8</td>\n      <td>4.0</td>\n    </tr>\n    <tr>\n      <th>10753</th>\n      <td>INTJ</td>\n      <td>10</td>\n      <td>Simulation 0</td>\n      <td>10</td>\n      <td>2.0</td>\n    </tr>\n    <tr>\n      <th>11836</th>\n      <td>INTP</td>\n      <td>10</td>\n      <td>Simulation 0</td>\n      <td>9</td>\n      <td>3.0</td>\n    </tr>\n    <tr>\n      <th>12934</th>\n      <td>ISFJ</td>\n      <td>10</td>\n      <td>Simulation 0</td>\n      <td>7</td>\n      <td>7.0</td>\n    </tr>\n    <tr>\n      <th>14002</th>\n      <td>ISFP</td>\n      <td>10</td>\n      <td>Simulation 0</td>\n      <td>7</td>\n      <td>7.0</td>\n    </tr>\n    <tr>\n      <th>15069</th>\n      <td>ISTJ</td>\n      <td>10</td>\n      <td>Simulation 0</td>\n      <td>1</td>\n      <td>16.0</td>\n    </tr>\n    <tr>\n      <th>16143</th>\n      <td>ISTP</td>\n      <td>10</td>\n      <td>Simulation 0</td>\n      <td>5</td>\n      <td>12.0</td>\n    </tr>\n  </tbody>\n</table>\n</div>",
      "text/plain": "      seller_mbti simulations experiment_name  number_of_visited_buyers  rank\n0            ENFJ          10    Simulation 0                         6  10.0\n1076         ENFP          10    Simulation 0                         6  10.0\n2143         ENTJ          10    Simulation 0                         5  12.0\n3221         ENTP          10    Simulation 0                         8   4.0\n4302         ESFJ          10    Simulation 0                         3  14.0\n5375         ESFP          10    Simulation 0                         7   7.0\n6455         ESTJ          10    Simulation 0                        13   1.0\n7530         ESTP          10    Simulation 0                         3  14.0\n8605         INFJ          10    Simulation 0                         2  15.0\n9682         INFP          10    Simulation 0                         8   4.0\n10753        INTJ          10    Simulation 0                        10   2.0\n11836        INTP          10    Simulation 0                         9   3.0\n12934        ISFJ          10    Simulation 0                         7   7.0\n14002        ISFP          10    Simulation 0                         7   7.0\n15069        ISTJ          10    Simulation 0                         1  16.0\n16143        ISTP          10    Simulation 0                         5  12.0"
     },
     "execution_count": 128,
     "metadata": {},
     "output_type": "execute_result"
    }
   ],
   "source": [
    "seller_productivity_aggregated['rank'] = seller_productivity_aggregated.groupby(['experiment_name', 'simulations'])['number_of_visited_buyers'].rank(ascending=False).round()\r\n",
    "seller_productivity_aggregated[(seller_productivity_aggregated.experiment_name=='Simulation 0') & (seller_productivity_aggregated.simulations=='10')]"
   ]
  },
  {
   "cell_type": "code",
   "execution_count": 132,
   "metadata": {},
   "outputs": [],
   "source": [
    "seller_productivity_aggregated.groupby(['seller_mbti'])['rank'].agg(['min', 'max', 'median', 'std']).round(2).reset_index()\r\n",
    "seller_productivity_aggregated.groupby(['seller_mbti'])['rank'].agg(['min', 'max', 'median', 'std']).round(2).reset_index().to_csv(\"Table1\")\r\n"
   ]
  }
 ],
 "metadata": {
  "kernelspec": {
   "display_name": "Python 3.8.5 64-bit",
   "name": "python385jvsc74a57bd0eda639d0632b0ff350a9d1c308641359e503494710bfeaa8c65067f367d0fc9b"
  },
  "language_info": {
   "codemirror_mode": {
    "name": "ipython",
    "version": 3
   },
   "file_extension": ".py",
   "mimetype": "text/x-python",
   "name": "python",
   "nbconvert_exporter": "python",
   "pygments_lexer": "ipython3",
   "version": "3.8.5"
  },
  "metadata": {
   "interpreter": {
    "hash": "eda639d0632b0ff350a9d1c308641359e503494710bfeaa8c65067f367d0fc9b"
   }
  },
  "orig_nbformat": 3
 },
 "nbformat": 4,
 "nbformat_minor": 2
}